{
 "cells": [
  {
   "cell_type": "code",
   "execution_count": 23,
   "id": "55ca6510",
   "metadata": {},
   "outputs": [],
   "source": [
    "import networkx as nx\n",
    "def read_graph_from_file(s):\n",
    "    edges = set()\n",
    "    sip = 0\n",
    "    f = open(s,\"r\")\n",
    "    lines = f.readlines()\n",
    "    for line in lines:\n",
    "        line = line.replace(\"\\n\", \"\")\n",
    "        res = line.split(\",\")\n",
    "        edges.add(tuple(res))\n",
    "        if res[0] == res[1]:\n",
    "            sip += 1\n",
    "    return nx.from_edgelist(list(edges)), sip"
   ]
  },
  {
   "cell_type": "code",
   "execution_count": 24,
   "id": "88fc53d7",
   "metadata": {},
   "outputs": [],
   "source": [
    "g,sip = read_graph_from_file(\"datasets/SyntheticPPI.csv\")"
   ]
  },
  {
   "cell_type": "code",
   "execution_count": 18,
   "id": "8e744195",
   "metadata": {},
   "outputs": [],
   "source": [
    "m = len(g.edges())"
   ]
  },
  {
   "cell_type": "code",
   "execution_count": 19,
   "id": "1eb06fae",
   "metadata": {},
   "outputs": [],
   "source": [
    "n = len(g.nodes())"
   ]
  },
  {
   "cell_type": "code",
   "execution_count": 20,
   "id": "4f403b45",
   "metadata": {},
   "outputs": [
    {
     "data": {
      "text/plain": [
       "(8274, 52923)"
      ]
     },
     "execution_count": 20,
     "metadata": {},
     "output_type": "execute_result"
    }
   ],
   "source": [
    "n,m"
   ]
  },
  {
   "cell_type": "code",
   "execution_count": 21,
   "id": "2eae636a",
   "metadata": {},
   "outputs": [],
   "source": [
    "candid = (n*(n-1)/2) - m"
   ]
  },
  {
   "cell_type": "code",
   "execution_count": 22,
   "id": "d0c17533",
   "metadata": {},
   "outputs": [
    {
     "data": {
      "text/plain": [
       "34172478.0"
      ]
     },
     "execution_count": 22,
     "metadata": {},
     "output_type": "execute_result"
    }
   ],
   "source": [
    "candid"
   ]
  },
  {
   "cell_type": "code",
   "execution_count": 25,
   "id": "731f55ee",
   "metadata": {},
   "outputs": [
    {
     "data": {
      "text/plain": [
       "480"
      ]
     },
     "execution_count": 25,
     "metadata": {},
     "output_type": "execute_result"
    }
   ],
   "source": [
    "sip"
   ]
  },
  {
   "cell_type": "code",
   "execution_count": null,
   "id": "0167c16e",
   "metadata": {},
   "outputs": [],
   "source": []
  }
 ],
 "metadata": {
  "kernelspec": {
   "display_name": "Python 3 (ipykernel)",
   "language": "python",
   "name": "python3"
  },
  "language_info": {
   "codemirror_mode": {
    "name": "ipython",
    "version": 3
   },
   "file_extension": ".py",
   "mimetype": "text/x-python",
   "name": "python",
   "nbconvert_exporter": "python",
   "pygments_lexer": "ipython3",
   "version": "3.10.12"
  }
 },
 "nbformat": 4,
 "nbformat_minor": 5
}
