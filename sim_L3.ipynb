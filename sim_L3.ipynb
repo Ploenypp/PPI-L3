{
 "cells": [
  {
   "cell_type": "code",
   "execution_count": 33,
   "id": "5a87c76b-5a96-49b1-9031-179fe48e0f52",
   "metadata": {},
   "outputs": [],
   "source": [
    "import networkx as nx\n",
    "import matplotlib.pyplot as plt\n",
    "import random\n",
    "import g_func"
   ]
  },
  {
   "cell_type": "code",
   "execution_count": 58,
   "id": "0afa1926-d9ac-4e36-84fe-de1627d983ad",
   "metadata": {},
   "outputs": [
    {
     "data": {
      "text/plain": [
       "(25, 25)"
      ]
     },
     "execution_count": 58,
     "metadata": {},
     "output_type": "execute_result"
    }
   ],
   "source": [
    "A = set()\n",
    "B = set()\n",
    "i = 1\n",
    "while i < 26 :\n",
    "    A.add(i)\n",
    "    i += 1\n",
    "while i < 51 :\n",
    "    B.add(i)\n",
    "    i += 1\n",
    "len(A),len(B)"
   ]
  },
  {
   "cell_type": "code",
   "execution_count": 59,
   "id": "2763e1cc-3be7-4232-a7c0-245755e4b712",
   "metadata": {},
   "outputs": [],
   "source": [
    "# ideal L3 graph\n",
    "edges = set()\n",
    "for a in A :\n",
    "    for b in B :\n",
    "        edges.add(tuple((a,b)))"
   ]
  },
  {
   "cell_type": "code",
   "execution_count": 60,
   "id": "d4c341e1-6693-4c07-bfdf-99ba6d8e6560",
   "metadata": {},
   "outputs": [],
   "source": [
    "x = 0\n",
    "y = 51\n",
    "A.add(x)\n",
    "B.add(y)\n",
    "for a in A :\n",
    "    edges.add(tuple((x,a)))\n",
    "for b in B :\n",
    "    edges.add(tuple((b,y)))"
   ]
  },
  {
   "cell_type": "code",
   "execution_count": 64,
   "id": "b32a3930-d2f2-4ec9-8869-f070a1ac5450",
   "metadata": {},
   "outputs": [
    {
     "data": {
      "text/plain": [
       "(677, 625, 52)"
      ]
     },
     "execution_count": 64,
     "metadata": {},
     "output_type": "execute_result"
    }
   ],
   "source": [
    "U = g_func.NintNN(edges,x,y)\n",
    "V = g_func.NintNN(edges,y,x)\n",
    "compat_e = set()\n",
    "for u in U :\n",
    "    for v in V :\n",
    "        compat_e.add(tuple((u,v)))\n",
    "len(edges),len(compat_e),len(edges)-len(compat_e)"
   ]
  },
  {
   "cell_type": "code",
   "execution_count": null,
   "id": "e17387b4-672a-4ef4-a0de-b5ac24735641",
   "metadata": {},
   "outputs": [],
   "source": []
  }
 ],
 "metadata": {
  "kernelspec": {
   "display_name": "Python 3 (ipykernel)",
   "language": "python",
   "name": "python3"
  },
  "language_info": {
   "codemirror_mode": {
    "name": "ipython",
    "version": 3
   },
   "file_extension": ".py",
   "mimetype": "text/x-python",
   "name": "python",
   "nbconvert_exporter": "python",
   "pygments_lexer": "ipython3",
   "version": "3.12.4"
  }
 },
 "nbformat": 4,
 "nbformat_minor": 5
}
