{
 "cells": [
  {
   "cell_type": "code",
   "execution_count": null,
   "id": "5a87c76b-5a96-49b1-9031-179fe48e0f52",
   "metadata": {},
   "outputs": [],
   "source": [
    "import networkx as nx\n",
    "import matplotlib.pyplot as plt\n",
    "import random"
   ]
  },
  {
   "cell_type": "code",
   "execution_count": 2,
   "id": "0afa1926-d9ac-4e36-84fe-de1627d983ad",
   "metadata": {},
   "outputs": [
    {
     "data": {
      "text/plain": [
       "(50, 50)"
      ]
     },
     "execution_count": 2,
     "metadata": {},
     "output_type": "execute_result"
    }
   ],
   "source": [
    "A = set()\n",
    "B = set()\n",
    "i = 1\n",
    "while i < 51 :\n",
    "    A.add(i)\n",
    "    i += 1\n",
    "while i < 101 :\n",
    "    B.add(i)\n",
    "    i += 1"
   ]
  },
  {
   "cell_type": "code",
   "execution_count": null,
   "id": "2763e1cc-3be7-4232-a7c0-245755e4b712",
   "metadata": {},
   "outputs": [],
   "source": [
    "# ideal L3 graph\n",
    "edges = set()\n",
    "for a in A :\n",
    "    for b in B :\n",
    "        edges.add(tuple((a,b))"
   ]
  },
  {
   "cell_type": "code",
   "execution_count": null,
   "id": "d4c341e1-6693-4c07-bfdf-99ba6d8e6560",
   "metadata": {},
   "outputs": [],
   "source": [
    "x = random.randint(1,50)\n",
    "y = random.randint(51,10)"
   ]
  }
 ],
 "metadata": {
  "kernelspec": {
   "display_name": "Python 3 (ipykernel)",
   "language": "python",
   "name": "python3"
  },
  "language_info": {
   "codemirror_mode": {
    "name": "ipython",
    "version": 3
   },
   "file_extension": ".py",
   "mimetype": "text/x-python",
   "name": "python",
   "nbconvert_exporter": "python",
   "pygments_lexer": "ipython3",
   "version": "3.12.4"
  }
 },
 "nbformat": 4,
 "nbformat_minor": 5
}
