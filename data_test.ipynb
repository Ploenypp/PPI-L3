{
 "cells": [
  {
   "cell_type": "code",
   "execution_count": 1,
   "id": "d782bb0b-8312-4596-b749-c90a62fded26",
   "metadata": {},
   "outputs": [],
   "source": [
    "import g_func\n",
    "import formula \n",
    "import calc\n",
    "import calc_n"
   ]
  },
  {
   "cell_type": "code",
   "execution_count": 2,
   "id": "4f1c74ae-9cc1-4a55-a37b-cfcb100adc9a",
   "metadata": {},
   "outputs": [
    {
     "name": "stdout",
     "output_type": "stream",
     "text": [
      "8272 52922\n",
      "551\n",
      "551\n",
      "1134\n"
     ]
    }
   ],
   "source": [
    "syn_e = g_func.txt_set(\"SyntheticPPI.txt\")\n",
    "syn_n = g_func.get_nodes(syn_e)\n",
    "print(len(syn_n),len(syn_e))\n",
    "\n",
    "num_n = (int)(len(syn_n)/15)\n",
    "print(num_n)\n",
    "new_n = []\n",
    "i = 1\n",
    "while i < num_n + 1 :\n",
    "    new_n.append(i)\n",
    "    i += 1\n",
    "print(len(new_n))\n",
    "\n",
    "new_e = set()\n",
    "for (a,b) in syn_e :\n",
    "    if a <= num_n and b <= num_n :\n",
    "        new_e.add(tuple((a,b)))\n",
    "print(len(new_e))"
   ]
  },
  {
   "cell_type": "code",
   "execution_count": null,
   "id": "4401f01d-4b16-45b6-8b4c-7de3a10302d3",
   "metadata": {
    "scrolled": true
   },
   "outputs": [],
   "source": [
    "SR = calc_n.cand(new_n,new_e,True,True,formula.pL3Np,formula.SR)\n",
    "#JC = calc_n.cand(syn_n,syn_e,True,True,formula.pL3Np,formula.JC)\n",
    "print(\"len(SR) = \",len(SR))\n",
    "print(SR)\n",
    "#print(\"len(JC) = \",len(JC))"
   ]
  },
  {
   "cell_type": "code",
   "execution_count": null,
   "id": "3a655408-d96a-4d90-842c-36e12d6acbbf",
   "metadata": {},
   "outputs": [],
   "source": [
    "i = 1\n",
    "j = 1\n",
    "new_assay = set()\n",
    "max_val = 0.0\n",
    "while i < len(new_n) :\n",
    "    while j < len(new_n) :\n",
    "        aux = formula.pL3Np(new_e,i,j,formula.SR)\n",
    "        if aux >= max_val :\n",
    "            max_val = aux\n",
    "            new_assay.clear()\n",
    "            new_assay.add(tuple((i,j)))\n",
    "            print(max_val,tuple((i,j)))\n",
    "        i += 1\n",
    "        j += 1"
   ]
  },
  {
   "cell_type": "code",
   "execution_count": 19,
   "id": "e30896d6-bd95-4045-9f7a-1fd447e3e28d",
   "metadata": {},
   "outputs": [
    {
     "name": "stdout",
     "output_type": "stream",
     "text": [
      "{(146, 146)}\n"
     ]
    }
   ],
   "source": [
    "print(new_assay)"
   ]
  },
  {
   "cell_type": "code",
   "execution_count": null,
   "id": "0f0a5963-8963-4cdd-b46d-bf5070838451",
   "metadata": {},
   "outputs": [],
   "source": [
    "formula.pL3Np(syn_e,1,1,formula.SR)\n",
    "formula.pL3Np(syn_e,1,1,formula.SR)\n",
    "formula.pL3Np(syn_e,1,1,formula.SR)\n",
    "formula.pL3Np(syn_e,1,1,formula.SR)\n",
    "formula.pL3Np(syn_e,1,1,formula.SR)"
   ]
  },
  {
   "cell_type": "code",
   "execution_count": null,
   "id": "68fefb20-bbad-45a6-8068-46dac041c668",
   "metadata": {},
   "outputs": [],
   "source": []
  }
 ],
 "metadata": {
  "kernelspec": {
   "display_name": "Python 3 (ipykernel)",
   "language": "python",
   "name": "python3"
  },
  "language_info": {
   "codemirror_mode": {
    "name": "ipython",
    "version": 3
   },
   "file_extension": ".py",
   "mimetype": "text/x-python",
   "name": "python",
   "nbconvert_exporter": "python",
   "pygments_lexer": "ipython3",
   "version": "3.12.4"
  }
 },
 "nbformat": 4,
 "nbformat_minor": 5
}
