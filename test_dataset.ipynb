{
 "cells": [
  {
   "cell_type": "code",
   "execution_count": 1,
   "metadata": {},
   "outputs": [],
   "source": [
    "# import libraries\n",
    "import pandas as pd\n",
    "import random\n",
    "\n",
    "# import python files\n",
    "from formulas import *\n",
    "from scoring import *\n",
    "from myfunc import *"
   ]
  },
  {
   "cell_type": "code",
   "execution_count": 2,
   "metadata": {},
   "outputs": [],
   "source": [
    "data = pd.read_csv('datasets/SyntheticPPI.csv')"
   ]
  },
  {
   "cell_type": "code",
   "execution_count": 3,
   "metadata": {},
   "outputs": [
    {
     "name": "stdout",
     "output_type": "stream",
     "text": [
      "confirm number of edges : 52922\n"
     ]
    }
   ],
   "source": [
    "edges = set()\n",
    "#data = data.reset_index()\n",
    "for index,row in data.iterrows() :\n",
    "    edges.add((int(row['source']),int(row['target'])))\n",
    "\n",
    "nb_edges = len(edges)\n",
    "print(\"confirm number of edges :\", nb_edges)\n",
    "G = graph(edges)"
   ]
  },
  {
   "cell_type": "code",
   "execution_count": 4,
   "metadata": {},
   "outputs": [
    {
     "name": "stdout",
     "output_type": "stream",
     "text": [
      "number of edges removed : 5293\n"
     ]
    }
   ],
   "source": [
    "# choose 10% of edges to remove\n",
    "rem_edges = set()\n",
    "\n",
    "while len(rem_edges)/nb_edges < 0.1 :\n",
    "    e = random.choice(list(edges))\n",
    "    if e not in rem_edges : rem_edges.add(e)\n",
    "\n",
    "print(\"number of edges removed :\",len(rem_edges))"
   ]
  },
  {
   "cell_type": "code",
   "execution_count": 5,
   "metadata": {},
   "outputs": [
    {
     "name": "stdout",
     "output_type": "stream",
     "text": [
      "candidates in original graph?\n",
      "-- all candidates were in original graph\n"
     ]
    }
   ],
   "source": [
    "candidates = score_candidates(G, rem_edges, CN, None)\n",
    "top = top_N_candidates(candidates,all)\n",
    "print(\"candidates in original graph?\")\n",
    "false_positive = False\n",
    "for candidate, score in top.items() :\n",
    "    if candidate not in edges : \n",
    "        false_positive = True\n",
    "        print(f'{candidate} : {score}')\n",
    "\n",
    "if not false_positive : print(\"-- all candidates were in original graph\")"
   ]
  },
  {
   "cell_type": "code",
   "execution_count": 6,
   "metadata": {},
   "outputs": [
    {
     "name": "stdout",
     "output_type": "stream",
     "text": [
      "candidates in original graph?\n",
      "-- all candidates were in original graph\n"
     ]
    }
   ],
   "source": [
    "candidates = score_candidates(G, rem_edges, RA, None)\n",
    "top = top_N_candidates(candidates,all)\n",
    "print(\"candidates in original graph?\")\n",
    "false_positive = False\n",
    "for candidate, score in top.items() :\n",
    "    if candidate not in edges : \n",
    "        false_positive = True\n",
    "        print(f'{candidate} : {score}')\n",
    "\n",
    "if not false_positive : print(\"-- all candidates were in original graph\")"
   ]
  },
  {
   "cell_type": "code",
   "execution_count": 7,
   "metadata": {},
   "outputs": [
    {
     "name": "stdout",
     "output_type": "stream",
     "text": [
      "candidates in original graph?\n",
      "-- all candidates were in original graph\n"
     ]
    }
   ],
   "source": [
    "candidates = score_candidates(G, rem_edges, AA, None)\n",
    "top = top_N_candidates(candidates,all)\n",
    "print(\"candidates in original graph?\")\n",
    "false_positive = False\n",
    "for candidate, score in top.items() :\n",
    "    if candidate not in edges : \n",
    "        false_positive = True\n",
    "        print(f'{candidate} : {score}')\n",
    "\n",
    "if not false_positive : print(\"-- all candidates were in original graph\")"
   ]
  },
  {
   "cell_type": "code",
   "execution_count": null,
   "metadata": {},
   "outputs": [],
   "source": []
  }
 ],
 "metadata": {
  "kernelspec": {
   "display_name": ".venv",
   "language": "python",
   "name": "python3"
  },
  "language_info": {
   "codemirror_mode": {
    "name": "ipython",
    "version": 3
   },
   "file_extension": ".py",
   "mimetype": "text/x-python",
   "name": "python",
   "nbconvert_exporter": "python",
   "pygments_lexer": "ipython3",
   "version": "3.12.4"
  },
  "orig_nbformat": 4
 },
 "nbformat": 4,
 "nbformat_minor": 2
}
