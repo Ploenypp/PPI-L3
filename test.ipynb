{
 "cells": [
  {
   "cell_type": "code",
   "execution_count": 1,
   "id": "0f1b5058-2bc8-434f-abed-11295ee04e34",
   "metadata": {},
   "outputs": [],
   "source": [
    "import g_func\n",
    "import method\n",
    "import calc"
   ]
  },
  {
   "cell_type": "code",
   "execution_count": 2,
   "id": "60c8b98e-4bd9-4d61-b256-17662c242f6f",
   "metadata": {},
   "outputs": [],
   "source": [
    "# GRAPHS\n",
    "n1 = [0,1,2,3,4]\n",
    "e1 = {(0, 3), (1, 2), (2, 0), (3, 4), (4, 3), (1, 0), (2, 3)}\n",
    "n2 = [0,1,2,3,4,5,6,7]\n",
    "e2 = {(0, 6), (1, 7), (2, 0), (3, 2), (4, 3), (5, 6), (6, 1), (7, 2), (4, 6), (4, 5), (5, 0), (7, 3)}\n",
    "n3 = [0,1,2,3,4,5,6,7]\n",
    "e3 = {(0, 2), (1, 4), (2, 4), (3, 2), (4, 3), (5, 3), (6, 3), (7, 0), (7, 1), (5, 0), (5, 7), (1, 2), (1, 0), (0, 4)}"
   ]
  },
  {
   "cell_type": "code",
   "execution_count": 3,
   "id": "6b2c132b-73f9-4f5b-82bf-fe9c93230966",
   "metadata": {},
   "outputs": [
    {
     "name": "stdout",
     "output_type": "stream",
     "text": [
      "-- CN --\n",
      "     0    1    2    3    4    \n",
      "\n",
      "    - - - - - - - - - - - - - - \n",
      "\n",
      "0 |     |1.00|2.00|1.00|1.00|\n",
      "\n",
      "1 | 1.00|    |1.00|2.00|    |\n",
      "\n",
      "2 | 2.00|1.00|    |1.00|1.00|\n",
      "\n",
      "3 | 1.00|2.00|1.00|    |    |\n",
      "\n",
      "4 | 1.00|    |1.00|    |    |\n",
      "\n",
      "\t - proposed edges :  {(1, 3), (2, 0)}\n",
      "\t - new edges :  {(1, 3)}\n",
      "\n",
      "-- RA --\n",
      "     0    1    2    3    4    \n",
      "\n",
      "    - - - - - - - - - - - - - - \n",
      "\n",
      "0 |     |0.33|0.83|0.33|0.33|\n",
      "\n",
      "1 | 0.33|    |0.33|0.67|    |\n",
      "\n",
      "2 | 0.83|0.33|    |0.33|0.33|\n",
      "\n",
      "3 | 0.33|0.67|0.33|    |    |\n",
      "\n",
      "4 | 0.33|    |0.33|    |    |\n",
      "\n",
      "\t - proposed edges :  {(0, 2)}\n",
      "\t - new edges :  set()\n",
      "\n",
      "-- AA --\n",
      "     0    1    2    3    4    \n",
      "\n",
      "    - - - - - - - - - - - - - - \n",
      "\n",
      "0 |     |0.91|2.35|0.91|0.91|\n",
      "\n",
      "1 | 0.91|    |0.91|1.82|    |\n",
      "\n",
      "2 | 2.35|0.91|    |0.91|0.91|\n",
      "\n",
      "3 | 0.91|1.82|0.91|    |    |\n",
      "\n",
      "4 | 0.91|    |0.91|    |    |\n",
      "\n",
      "\t - proposed edges :  {(0, 2)}\n",
      "\t - new edges :  set()\n",
      "\n",
      "-- pxy1 --\n",
      "     0    1    2    3    4    \n",
      "\n",
      "    - - - - - - - - - - - - - - \n",
      "\n",
      "0 |     |    |    |    |1.00|\n",
      "\n",
      "1 |     |    |    |2.00|2.00|\n",
      "\n",
      "2 |     |    |    |    |1.00|\n",
      "\n",
      "3 |     |2.00|    |    |    |\n",
      "\n",
      "4 | 1.00|2.00|1.00|    |    |\n",
      "\n",
      "\t - proposed edges :  {(3, 1), (1, 4)}\n",
      "\t - new edges :  {(3, 1), (1, 4)}\n",
      "\n",
      "-- pL3N --\n",
      "     0    1    2    3    4    \n",
      "\n",
      "    - - - - - - - - - - - - - - \n",
      "\n",
      "0 |     |    |    |    |0.33|\n",
      "\n",
      "1 |     |    |    |0.67|0.67|\n",
      "\n",
      "2 |     |    |    |    |0.33|\n",
      "\n",
      "3 |     |0.67|    |    |    |\n",
      "\n",
      "4 | 0.33|0.67|0.33|    |    |\n",
      "\n",
      "\t - proposed edges :  {(3, 1), (1, 4)}\n",
      "\t - new edges :  {(3, 1), (1, 4)}\n"
     ]
    },
    {
     "data": {
      "text/plain": [
       "{(0, 3), (1, 0), (1, 2), (1, 4), (2, 0), (2, 3), (3, 1), (3, 4), (4, 3)}"
      ]
     },
     "execution_count": 3,
     "metadata": {},
     "output_type": "execute_result"
    }
   ],
   "source": [
    "print(\"-- CN --\")\n",
    "cn1 = calc.all_scores(n1,e1,False,method.CN)\n",
    "calc.print_scores(cn1)\n",
    "calc.apply(n1,e1,False,method.CN)\n",
    "print(\"\\n-- RA --\")\n",
    "ra1 = calc.all_scores(n1,e1,False,method.RA)\n",
    "calc.print_scores(ra1)\n",
    "calc.apply(n1,e1,False,method.RA)\n",
    "print(\"\\n-- AA --\")\n",
    "aa1 = calc.all_scores(n1,e1,False,method.AA)\n",
    "calc.print_scores(aa1)\n",
    "calc.apply(n1,e1,False,method.AA)\n",
    "print(\"\\n-- pxy1 --\")\n",
    "p11 = calc.all_scores(n1,e1,True,method.p1)\n",
    "calc.print_scores(p11)\n",
    "calc.apply(n1,e1,True,method.p1)\n",
    "print(\"\\n-- pL3N --\")\n",
    "pL3N1 = calc.all_scores(n1,e1,True,method.pL3N)\n",
    "calc.print_scores(pL3N1)\n",
    "calc.apply(n1,e1,True,method.pL3N)"
   ]
  },
  {
   "cell_type": "code",
   "execution_count": 10,
   "id": "db24d3e1-24d7-41e3-b927-4b344bbdaba0",
   "metadata": {},
   "outputs": [
    {
     "data": {
      "text/plain": [
       "<module 'method' from '/Users/ploeny/Documents/PPI_L3/method.py'>"
      ]
     },
     "execution_count": 10,
     "metadata": {},
     "output_type": "execute_result"
    }
   ],
   "source": [
    "n0 = g_func.N(e1,0)\n",
    "n4 = g_func.N(e1,4)\n",
    "nn0 = g_func.NN(e1,0)\n",
    "nn4 = g_func.NN(e1,4)\n",
    "n0,n4,nn0,nn4\n",
    "\n",
    "method.p1(e1,0,1)\n",
    "method"
   ]
  },
  {
   "cell_type": "code",
   "execution_count": 6,
   "id": "e78f10ef-03f1-40e6-831a-c0df462b2819",
   "metadata": {},
   "outputs": [
    {
     "data": {
      "image/png": "[encoded data removed]",
      "text/plain": [
       "<Figure size 640x480 with 1 Axes>"
      ]
     },
     "metadata": {},
     "output_type": "display_data"
    }
   ],
   "source": [
    "g_func.graph(n1,e1)"
   ]
  },
  {
   "cell_type": "code",
   "execution_count": null,
   "id": "a89d303e-b0ad-4da7-92f9-eb04bf2af339",
   "metadata": {},
   "outputs": [],
   "source": []
  }
 ],
 "metadata": {
  "kernelspec": {
   "display_name": "Python 3 (ipykernel)",
   "language": "python",
   "name": "python3"
  },
  "language_info": {
   "codemirror_mode": {
    "name": "ipython",
    "version": 3
   },
   "file_extension": ".py",
   "mimetype": "text/x-python",
   "name": "python",
   "nbconvert_exporter": "python",
   "pygments_lexer": "ipython3",
   "version": "3.12.4"
  }
 },
 "nbformat": 4,
 "nbformat_minor": 5
}
