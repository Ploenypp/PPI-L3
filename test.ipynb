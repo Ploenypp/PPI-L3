{
 "cells": [
  {
   "cell_type": "code",
   "execution_count": 1,
   "id": "0f1b5058-2bc8-434f-abed-11295ee04e34",
   "metadata": {},
   "outputs": [
    {
     "name": "stdout",
     "output_type": "stream",
     "text": [
      "[0, 1, 2, 3, 4]\n"
     ]
    }
   ],
   "source": [
    "import g_func\n",
    "import formula\n",
    "import calc"
   ]
  },
  {
   "cell_type": "code",
   "execution_count": null,
   "id": "60c8b98e-4bd9-4d61-b256-17662c242f6f",
   "metadata": {},
   "outputs": [],
   "source": [
    "# GRAPHS\n",
    "n1 = [0,1,2,3,4]\n",
    "e1 = {(0, 3), (1, 2), (2, 0), (3, 4), (4, 3), (1, 0), (2, 3)}\n",
    "n2 = [0,1,2,3,4,5,6,7]\n",
    "e2 = {(0, 6), (1, 7), (2, 0), (3, 2), (4, 3), (5, 6), (6, 1), (7, 2), (4, 6), (4, 5), (5, 0), (7, 3)}\n",
    "n3 = [0,1,2,3,4,5,6,7]\n",
    "e3 = {(0, 2), (1, 4), (2, 4), (3, 2), (4, 3), (5, 3), (6, 3), (7, 0), (7, 1), (5, 0), (5, 7), (1, 2), (1, 0), (0, 4)}"
   ]
  },
  {
   "cell_type": "code",
   "execution_count": null,
   "id": "6b2c132b-73f9-4f5b-82bf-fe9c93230966",
   "metadata": {},
   "outputs": [],
   "source": [
    "print(\"-- CN --\")\n",
    "cn1_s = calc.all_scores(n1,e1,False,formula.CN)\n",
    "calc.print_scores(cn1_s)\n",
    "cn1 = calc.apply(n1,e1,False,formula.CN)\n",
    "print(\"\\n-- RA --\")\n",
    "ra1_s = calc.all_scores(n1,e1,False,formula.RA)\n",
    "calc.print_scores(ra1_s)\n",
    "ra1 = calc.apply(n1,e1,False,formula.RA)\n",
    "print(\"\\n-- AA --\")\n",
    "aa1_s = calc.all_scores(n1,e1,False,formula.AA)\n",
    "calc.print_scores(aa1_s)\n",
    "aa1 = calc.apply(n1,e1,False,formula.AA)"
   ]
  },
  {
   "cell_type": "code",
   "execution_count": null,
   "id": "461a2411-1efd-494e-becd-0dd117083be9",
   "metadata": {},
   "outputs": [],
   "source": [
    "print(\"\\n-- pxy1 --\")\n",
    "p11_s = calc.all_scores(n1,e1,True,formula.p1)\n",
    "calc.print_scores(p11_s)\n",
    "p11 = calc.apply(n1,e1,True,formula.p1)"
   ]
  },
  {
   "cell_type": "code",
   "execution_count": null,
   "id": "51884087-067c-4457-837b-46e54346fa1e",
   "metadata": {},
   "outputs": [],
   "source": [
    "g_func.graph(n1,e1)\n",
    "print(p11 - e1)\n",
    "g_func.graph(n1,p11)"
   ]
  },
  {
   "cell_type": "code",
   "execution_count": null,
   "id": "1740ca4d-9516-47ba-ad95-8086829eebc4",
   "metadata": {},
   "outputs": [],
   "source": [
    "print(\"\\n-- pL3N --\")\n",
    "pL3N1_s = calc.all_scores(n1,e1,True,formula.pL3N)\n",
    "calc.print_scores(pL3N1_s)\n",
    "pL3N1 = calc.apply(n1,e1,True,formula.pL3N)"
   ]
  },
  {
   "cell_type": "code",
   "execution_count": null,
   "id": "b8135dbb-d095-4d1c-81ba-2ed6385d1fe7",
   "metadata": {},
   "outputs": [],
   "source": [
    "g_func.graph(n1,e1)\n",
    "print(pL3N1 - e1)\n",
    "g_func.graph(n1,pL3N1)"
   ]
  },
  {
   "cell_type": "code",
   "execution_count": null,
   "id": "f9fc8f61-8e16-4f91-aaee-9ac30a1fca04",
   "metadata": {},
   "outputs": [],
   "source": [
    "print(\"-- CN --\")\n",
    "cn2_s = calc.all_scores(n2,e2,False,formula.CN)\n",
    "calc.print_scores(cn2_s)\n",
    "cn2 = calc.apply(n2,e2,False,formula.CN)\n",
    "print(\"\\n-- RA --\")\n",
    "ra2_s = calc.all_scores(n2,e2,False,formula.RA)\n",
    "calc.print_scores(ra2_s)\n",
    "ra2 = calc.apply(n2,e2,False,formula.RA)\n",
    "print(\"\\n-- AA --\")\n",
    "aa2_s = calc.all_scores(n2,e2,False,formula.AA)\n",
    "calc.print_scores(aa2_s)\n",
    "aa2 = calc.apply(n2,e2,False,formula.AA)"
   ]
  },
  {
   "cell_type": "code",
   "execution_count": null,
   "id": "5c4dc39a-0f65-4454-a651-19d452e6dca6",
   "metadata": {},
   "outputs": [],
   "source": [
    "print(\"\\n-- pxy1 --\")\n",
    "p12_s = calc.all_scores(n2,e2,True,formula.p1)\n",
    "calc.print_scores(p12_s)\n",
    "p12 = calc.apply(n2,e2,True,formula.p1)"
   ]
  },
  {
   "cell_type": "code",
   "execution_count": null,
   "id": "c6a3e8ff-5c54-4aea-a906-0f25ee1dbb9d",
   "metadata": {},
   "outputs": [],
   "source": [
    "g_func.graph(n2,e2)\n",
    "print(p12 - e2)\n",
    "g_func.graph(n2,p12)"
   ]
  },
  {
   "cell_type": "code",
   "execution_count": null,
   "id": "327124d8-b5b1-4fa6-8025-2cc9f128a3c5",
   "metadata": {},
   "outputs": [],
   "source": [
    "print(\"\\n-- pL3N --\")\n",
    "pL3N2_s = calc.all_scores(n2,e2,True,formula.pL3N)\n",
    "calc.print_scores(pL3N2_s)\n",
    "pL3N2 = calc.apply(n2,e2,True,formula.pL3N)"
   ]
  },
  {
   "cell_type": "code",
   "execution_count": null,
   "id": "84a1b56d-93fc-448a-9845-7a3064227721",
   "metadata": {},
   "outputs": [],
   "source": [
    "g_func.graph(n2,e2)\n",
    "print(pL3N2 - e2)\n",
    "g_func.graph(n1,pL3N2)"
   ]
  },
  {
   "cell_type": "code",
   "execution_count": null,
   "id": "e147ae69-919d-4e1f-877d-fb6eb425869d",
   "metadata": {},
   "outputs": [],
   "source": [
    "print(\"-- CN --\")\n",
    "cn3_s = calc.all_scores(n3,e3,False,formula.CN)\n",
    "calc.print_scores(cn3_s)\n",
    "cn3 = calc.apply(n3,e3,False,formula.CN)\n",
    "print(\"\\n-- RA --\")\n",
    "ra3_s = calc.all_scores(n3,e3,False,formula.RA)\n",
    "calc.print_scores(ra3_s)\n",
    "ra3 = calc.apply(n3,e3,False,formula.RA)\n",
    "print(\"\\n-- AA --\")\n",
    "aa3_s = calc.all_scores(n3,e3,False,formula.AA)\n",
    "calc.print_scores(aa3_s)\n",
    "aa3 = calc.apply(n3,e3,False,formula.AA)"
   ]
  },
  {
   "cell_type": "code",
   "execution_count": null,
   "id": "66b49ef6-87ba-4764-aa24-7d2f0fea1911",
   "metadata": {},
   "outputs": [],
   "source": [
    "print(\"\\n-- pxy1 --\")\n",
    "p13_s = calc.all_scores(n3,e3,True,formula.p1)\n",
    "calc.print_scores(p13_s)\n",
    "p13 = calc.apply(n3,e3,True,formula.p1)"
   ]
  },
  {
   "cell_type": "code",
   "execution_count": null,
   "id": "cf8b14f5-a024-4350-9c1f-9a70aea8bc53",
   "metadata": {},
   "outputs": [],
   "source": [
    "g_func.graph(n3,e3)\n",
    "print(p13 - e3)\n",
    "g_func.graph(n2,p13)"
   ]
  },
  {
   "cell_type": "code",
   "execution_count": null,
   "id": "7d15b205-a891-4743-8a6a-71db9f7c3f3e",
   "metadata": {},
   "outputs": [],
   "source": [
    "print(\"\\n-- pL3N --\")\n",
    "pL3N3_s = calc.all_scores(n3,e3,True,formula.pL3N)\n",
    "calc.print_scores(pL3N3_s)\n",
    "pL3N3 = calc.apply(n3,e3,True,formula.pL3N)"
   ]
  },
  {
   "cell_type": "code",
   "execution_count": null,
   "id": "a2835b16-4bdc-4ba9-9457-69ffe6cda0ac",
   "metadata": {},
   "outputs": [],
   "source": [
    "g_func.graph(n3,e3)\n",
    "print(pL3N3 - e3)\n",
    "g_func.graph(n1,pL3N3)"
   ]
  },
  {
   "cell_type": "code",
   "execution_count": null,
   "id": "8f83e5c4-9dcf-4ccf-902a-6e8f71f3bbba",
   "metadata": {},
   "outputs": [],
   "source": [
    "# compare w/o and w/ non_adj_crit"
   ]
  },
  {
   "cell_type": "code",
   "execution_count": null,
   "id": "576624ff-df4c-4792-a5f9-cf262d5efacf",
   "metadata": {},
   "outputs": [],
   "source": [
    "cn_f = calc.all_scores(n1,e1,False,formula.CN)\n",
    "cn_t = calc.all_scores(n1,e1,True,formula.CN)\n",
    "calc.print_scores(cn_f)\n",
    "calc.print_scores(cn_t)\n",
    "print(\"w/o crit\")\n",
    "calc.apply(n1,e1,False,formula.CN)\n",
    "print(\"w/ crit\")\n",
    "calc.apply(n1,e1,True,formula.CN)"
   ]
  },
  {
   "cell_type": "code",
   "execution_count": null,
   "id": "5fef7754-c234-47a0-90ce-66bb4acee11f",
   "metadata": {},
   "outputs": [],
   "source": [
    "(2,0) in e1,(1,3) in e1,(3,1) in e1"
   ]
  },
  {
   "cell_type": "code",
   "execution_count": null,
   "id": "f886ffc4-48f5-4cb0-a322-8a4527c22e31",
   "metadata": {},
   "outputs": [],
   "source": [
    "ra_f = calc.all_scores(n1,e1,False,formula.RA)\n",
    "ra_t = calc.all_scores(n1,e1,True,formula.RA)\n",
    "calc.print_scores(ra_f)\n",
    "calc.print_scores(ra_t)\n",
    "print(\"w/o crit\")\n",
    "calc.apply(n1,e1,False,formula.RA)\n",
    "print(\"w/ crit\")\n",
    "calc.apply(n1,e1,True,formula.RA)"
   ]
  },
  {
   "cell_type": "code",
   "execution_count": null,
   "id": "a9a2bd28-f6d2-4070-96e2-92f34a5c9611",
   "metadata": {},
   "outputs": [],
   "source": [
    "(2,0) in e1,(3,1) in e1,(1,3) in e1"
   ]
  },
  {
   "cell_type": "code",
   "execution_count": null,
   "id": "55ea3713-8145-4184-8a31-93ecc1c47dc9",
   "metadata": {},
   "outputs": [],
   "source": [
    "aa_f = calc.all_scores(n1,e1,False,formula.AA)\n",
    "aa_t = calc.all_scores(n1,e1,True,formula.AA)\n",
    "calc.print_scores(aa_f)\n",
    "calc.print_scores(aa_t)\n",
    "print(\"w/o crit\")\n",
    "calc.apply(n1,e1,False,formula.AA)\n",
    "print(\"w/ crit\")\n",
    "calc.apply(n1,e1,True,formula.AA)"
   ]
  },
  {
   "cell_type": "code",
   "execution_count": null,
   "id": "1db46ddd-c9e2-4cff-9456-339d2beb32d4",
   "metadata": {},
   "outputs": [],
   "source": [
    "(2,0) in e1,(3,1) in e1,(1,3) in e1"
   ]
  },
  {
   "cell_type": "code",
   "execution_count": null,
   "id": "260ca8c4-b010-4a07-868b-856eea6ef801",
   "metadata": {},
   "outputs": [],
   "source": [
    "p1_f = calc.all_scores(n1,e1,False,formula.p1)\n",
    "p1_t = calc.all_scores(n1,e1,True,formula.p1)\n",
    "calc.print_scores(p1_f)\n",
    "calc.print_scores(p1_t)\n",
    "print(\"w/o crit\")\n",
    "calc.apply(n1,e1,False,formula.p1)\n",
    "print(\"w/ crit\")\n",
    "calc.apply(n1,e1,True,formula.p1)"
   ]
  },
  {
   "cell_type": "code",
   "execution_count": null,
   "id": "7cce2303-8134-44be-a626-97d0b9a6e738",
   "metadata": {},
   "outputs": [],
   "source": [
    "(2,3) in e1,(0,3) in e1,(3,1) in e1,(1,3) in e1,(1,4) in e1,(4,1) in e1"
   ]
  },
  {
   "cell_type": "code",
   "execution_count": null,
   "id": "7d098150-c10c-466b-b30b-28bc61589fb6",
   "metadata": {},
   "outputs": [],
   "source": [
    "pL3N_f = calc.all_scores(n1,e1,False,formula.pL3N)\n",
    "pL3N_t = calc.all_scores(n1,e1,True,formula.pL3N)\n",
    "calc.print_scores(pL3N_f)\n",
    "calc.print_scores(pL3N_t)\n",
    "print(\"w/o crit\")\n",
    "calc.apply(n1,e1,False,formula.pL3N)\n",
    "print(\"w/ crit\")\n",
    "calc.apply(n1,e1,True,formula.pL3N)"
   ]
  },
  {
   "cell_type": "code",
   "execution_count": null,
   "id": "40d7ea84-7eca-4920-9d0d-3457f5890bf7",
   "metadata": {},
   "outputs": [],
   "source": [
    "(2,3) in e1,(0,3) in e1,(3,1) in e1,(1,3) in e1,(1,4) in e1,(4,1) in e1"
   ]
  },
  {
   "cell_type": "code",
   "execution_count": null,
   "id": "d7a08d7c-6357-42a2-8285-a2c7f41231de",
   "metadata": {},
   "outputs": [],
   "source": [
    "# displaying non_adj_crit"
   ]
  },
  {
   "cell_type": "code",
   "execution_count": null,
   "id": "98d4cfaa-323d-491e-adcd-9691c6a1f921",
   "metadata": {},
   "outputs": [],
   "source": [
    "calc.apply(n1,e1,False,formula.p1)\n",
    "calc.apply(n2,e2,False,formula.p1)\n",
    "calc.apply(n3,e3,False,formula.p1)\n",
    "calc.apply(n1,e1,False,formula.pL3N)\n",
    "calc.apply(n2,e2,False,formula.pL3N)\n",
    "calc.apply(n3,e3,False,formula.pL3N)"
   ]
  },
  {
   "cell_type": "code",
   "execution_count": null,
   "id": "0b9ee6f8-8082-4a5b-a763-d5ed095f1fdd",
   "metadata": {},
   "outputs": [],
   "source": []
  }
 ],
 "metadata": {
  "kernelspec": {
   "display_name": "Python 3 (ipykernel)",
   "language": "python",
   "name": "python3"
  },
  "language_info": {
   "codemirror_mode": {
    "name": "ipython",
    "version": 3
   },
   "file_extension": ".py",
   "mimetype": "text/x-python",
   "name": "python",
   "nbconvert_exporter": "python",
   "pygments_lexer": "ipython3",
   "version": "3.12.4"
  }
 },
 "nbformat": 4,
 "nbformat_minor": 5
}
