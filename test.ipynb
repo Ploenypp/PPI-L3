{
 "cells": [
  {
   "cell_type": "code",
   "execution_count": 1,
   "id": "0f1b5058-2bc8-434f-abed-11295ee04e34",
   "metadata": {},
   "outputs": [],
   "source": [
    "import g_func\n",
    "import method\n",
    "import calc"
   ]
  },
  {
   "cell_type": "code",
   "execution_count": 2,
   "id": "60c8b98e-4bd9-4d61-b256-17662c242f6f",
   "metadata": {},
   "outputs": [],
   "source": [
    "# GRAPHS\n",
    "n1 = [0,1,2,3,4]\n",
    "e1 = {(0, 3), (1, 2), (2, 0), (3, 4), (4, 3), (1, 0), (2, 3)}\n",
    "n2 = [0,1,2,3,4,5,6,7]\n",
    "e2 = {(0, 6), (1, 7), (2, 0), (3, 2), (4, 3), (5, 6), (6, 1), (7, 2), (4, 6), (4, 5), (5, 0), (7, 3)}\n",
    "n3 = [0,1,2,3,4,5,6,7]\n",
    "e3 = {(0, 2), (1, 4), (2, 4), (3, 2), (4, 3), (5, 3), (6, 3), (7, 0), (7, 1), (5, 0), (5, 7), (1, 2), (1, 0), (0, 4)}"
   ]
  },
  {
   "cell_type": "code",
   "execution_count": 47,
   "id": "6b2c132b-73f9-4f5b-82bf-fe9c93230966",
   "metadata": {},
   "outputs": [
    {
     "name": "stdout",
     "output_type": "stream",
     "text": [
      "-- CN --\n",
      "     0    1    2    3    4    \n",
      "\n",
      "    - - - - - - - - - - - - - - \n",
      "\n",
      "0 |     |1.00|2.00|1.00|1.00|\n",
      "\n",
      "1 | 1.00|    |1.00|2.00|    |\n",
      "\n",
      "2 | 2.00|1.00|    |1.00|1.00|\n",
      "\n",
      "3 | 1.00|2.00|1.00|    |    |\n",
      "\n",
      "4 | 1.00|    |1.00|    |    |\n",
      "\n",
      "\t - proposed edges :  {(1, 3), (2, 0)}\n",
      "\t - new edges :  {(1, 3)}\n",
      "\n",
      "-- RA --\n",
      "     0    1    2    3    4    \n",
      "\n",
      "    - - - - - - - - - - - - - - \n",
      "\n",
      "0 |     |0.33|0.83|0.33|0.33|\n",
      "\n",
      "1 | 0.33|    |0.33|0.67|    |\n",
      "\n",
      "2 | 0.83|0.33|    |0.33|0.33|\n",
      "\n",
      "3 | 0.33|0.67|0.33|    |    |\n",
      "\n",
      "4 | 0.33|    |0.33|    |    |\n",
      "\n",
      "\t - proposed edges :  {(0, 2)}\n",
      "\t - new edges :  set()\n",
      "\n",
      "-- AA --\n",
      "     0    1    2    3    4    \n",
      "\n",
      "    - - - - - - - - - - - - - - \n",
      "\n",
      "0 |     |0.91|2.35|0.91|0.91|\n",
      "\n",
      "1 | 0.91|    |0.91|1.82|    |\n",
      "\n",
      "2 | 2.35|0.91|    |0.91|0.91|\n",
      "\n",
      "3 | 0.91|1.82|0.91|    |    |\n",
      "\n",
      "4 | 0.91|    |0.91|    |    |\n",
      "\n",
      "\t - proposed edges :  {(0, 2)}\n",
      "\t - new edges :  set()\n"
     ]
    }
   ],
   "source": [
    "print(\"-- CN --\")\n",
    "cn1_s = calc.all_scores(n1,e1,False,method.CN)\n",
    "calc.print_scores(cn1_s)\n",
    "cn1 = calc.apply(n1,e1,False,method.CN)\n",
    "print(\"\\n-- RA --\")\n",
    "ra1_s = calc.all_scores(n1,e1,False,method.RA)\n",
    "calc.print_scores(ra1_s)\n",
    "ra1 = calc.apply(n1,e1,False,method.RA)\n",
    "print(\"\\n-- AA --\")\n",
    "aa1_s = calc.all_scores(n1,e1,False,method.AA)\n",
    "calc.print_scores(aa1_s)\n",
    "aa1 = calc.apply(n1,e1,False,method.AA)"
   ]
  },
  {
   "cell_type": "code",
   "execution_count": 48,
   "id": "f9fc8f61-8e16-4f91-aaee-9ac30a1fca04",
   "metadata": {},
   "outputs": [
    {
     "name": "stdout",
     "output_type": "stream",
     "text": [
      "-- CN --\n",
      "     0    1    2    3    4    5    6    7    \n",
      "\n",
      "    - - - - - - - - - - - - - - - - - - - - \n",
      "\n",
      "0 |     |1.00|    |1.00|2.00|1.00|1.00|1.00|\n",
      "\n",
      "1 | 1.00|    |1.00|1.00|1.00|1.00|    |    |\n",
      "\n",
      "2 |     |1.00|    |1.00|1.00|1.00|1.00|1.00|\n",
      "\n",
      "3 | 1.00|1.00|1.00|    |    |1.00|1.00|1.00|\n",
      "\n",
      "4 | 2.00|1.00|1.00|    |    |1.00|1.00|1.00|\n",
      "\n",
      "5 | 1.00|1.00|1.00|1.00|1.00|    |2.00|    |\n",
      "\n",
      "6 | 1.00|    |1.00|1.00|1.00|2.00|    |1.00|\n",
      "\n",
      "7 | 1.00|    |1.00|1.00|1.00|    |1.00|    |\n",
      "\n",
      "\t - proposed edges :  {(4, 0), (5, 6)}\n",
      "\t - new edges :  {(4, 0)}\n",
      "\n",
      "-- RA --\n",
      "     0    1    2    3    4    5    6    7    \n",
      "\n",
      "    - - - - - - - - - - - - - - - - - - - - \n",
      "\n",
      "0 |     |0.25|    |0.33|0.58|0.25|0.33|0.33|\n",
      "\n",
      "1 | 0.25|    |0.33|0.33|0.25|0.25|    |    |\n",
      "\n",
      "2 |     |0.33|    |0.33|0.33|0.33|0.33|0.33|\n",
      "\n",
      "3 | 0.33|0.33|0.33|    |    |0.33|0.33|0.33|\n",
      "\n",
      "4 | 0.58|0.25|0.33|    |    |0.25|0.33|0.33|\n",
      "\n",
      "5 | 0.25|0.25|0.33|0.33|0.25|    |0.67|    |\n",
      "\n",
      "6 | 0.33|    |0.33|0.33|0.33|0.67|    |0.50|\n",
      "\n",
      "7 | 0.33|    |0.33|0.33|0.33|    |0.50|    |\n",
      "\n",
      "\t - proposed edges :  {(5, 6)}\n",
      "\t - new edges :  set()\n",
      "\n",
      "-- AA --\n",
      "     0    1    2    3    4    5    6    7    \n",
      "\n",
      "    - - - - - - - - - - - - - - - - - - - - \n",
      "\n",
      "0 |     |0.72|    |0.91|1.63|0.72|0.91|0.91|\n",
      "\n",
      "1 | 0.72|    |0.91|0.91|0.72|0.72|    |    |\n",
      "\n",
      "2 |     |0.91|    |0.91|0.91|0.91|0.91|0.91|\n",
      "\n",
      "3 | 0.91|0.91|0.91|    |    |0.91|0.91|0.91|\n",
      "\n",
      "4 | 1.63|0.72|0.91|    |    |0.72|0.91|0.91|\n",
      "\n",
      "5 | 0.72|0.72|0.91|0.91|0.72|    |1.82|    |\n",
      "\n",
      "6 | 0.91|    |0.91|0.91|0.91|1.82|    |1.44|\n",
      "\n",
      "7 | 0.91|    |0.91|0.91|0.91|    |1.44|    |\n",
      "\n",
      "\t - proposed edges :  {(5, 6)}\n",
      "\t - new edges :  set()\n",
      "\n",
      "-- pxy1 --\n",
      "     0    1    2    3    4    5    6    7    \n",
      "\n",
      "    - - - - - - - - - - - - - - - - - - - - \n",
      "\n",
      "0 |     |2.00|    |3.00|3.00|    |    |2.00|\n",
      "\n",
      "1 | 2.00|    |2.00|2.00|2.00|2.00|    |    |\n",
      "\n",
      "2 |     |2.00|    |    |3.00|2.00|3.00|    |\n",
      "\n",
      "3 | 3.00|2.00|    |    |    |2.00|3.00|    |\n",
      "\n",
      "4 | 3.00|2.00|3.00|    |    |    |    |2.00|\n",
      "\n",
      "5 |     |2.00|2.00|2.00|    |    |    |3.00|\n",
      "\n",
      "6 |     |    |3.00|3.00|    |    |    |2.00|\n",
      "\n",
      "7 | 2.00|    |    |    |2.00|3.00|2.00|    |\n",
      "\n",
      "\t - proposed edges :  {(2, 4), (4, 0), (6, 2), (0, 3), (5, 7), (3, 6)}\n",
      "\t - new edges :  {(2, 4), (4, 0), (6, 2), (0, 3), (5, 7), (3, 6)}\n",
      "\n",
      "-- pL3N --\n",
      "     0    1    2    3    4    5    6    7    \n",
      "\n",
      "    - - - - - - - - - - - - - - - - - - - - \n",
      "\n",
      "0 |     |0.62|    |0.96|0.91|    |    |0.69|\n",
      "\n",
      "1 | 0.62|    |0.62|0.62|0.62|0.58|    |    |\n",
      "\n",
      "2 |     |0.62|    |    |0.96|0.62|1.07|    |\n",
      "\n",
      "3 | 0.96|0.62|    |    |    |0.62|1.07|    |\n",
      "\n",
      "4 | 0.91|0.62|0.96|    |    |    |    |0.69|\n",
      "\n",
      "5 |     |0.58|0.62|0.62|    |    |    |1.02|\n",
      "\n",
      "6 |     |    |1.07|1.07|    |    |    |0.67|\n",
      "\n",
      "7 | 0.69|    |    |    |0.69|1.02|0.67|    |\n",
      "\n",
      "\t - proposed edges :  {(6, 2), (6, 3)}\n",
      "\t - new edges :  {(6, 2), (6, 3)}\n"
     ]
    }
   ],
   "source": [
    "print(\"-- CN --\")\n",
    "cn2_s = calc.all_scores(n2,e2,False,method.CN)\n",
    "calc.print_scores(cn2_s)\n",
    "cn2 = calc.apply(n2,e2,False,method.CN)\n",
    "print(\"\\n-- RA --\")\n",
    "ra2_s = calc.all_scores(n2,e2,False,method.RA)\n",
    "calc.print_scores(ra2_s)\n",
    "ra2 = calc.apply(n2,e2,False,method.RA)\n",
    "print(\"\\n-- AA --\")\n",
    "aa2_s = calc.all_scores(n2,e2,False,method.AA)\n",
    "calc.print_scores(aa2_s)\n",
    "aa2 = calc.apply(n2,e2,False,method.AA)\n",
    "print(\"\\n-- pxy1 --\")\n",
    "p12_s = calc.all_scores(n2,e2,True,method.p1)\n",
    "calc.print_scores(p12_s)\n",
    "p12 = calc.apply(n2,e2,True,method.p1)\n",
    "print(\"\\n-- pL3N --\")\n",
    "pL3N2_s = calc.all_scores(n2,e2,True,method.pL3N)\n",
    "calc.print_scores(pL3N2_s)\n",
    "pL3N2 = calc.apply(n2,e2,True,method.pL3N)"
   ]
  },
  {
   "cell_type": "code",
   "execution_count": 49,
   "id": "461a2411-1efd-494e-becd-0dd117083be9",
   "metadata": {},
   "outputs": [
    {
     "name": "stdout",
     "output_type": "stream",
     "text": [
      "\n",
      "-- pxy1 --\n",
      "     0    1    2    3    4    \n",
      "\n",
      "    - - - - - - - - - - - - - - \n",
      "\n",
      "0 |     |    |    |    |1.00|\n",
      "\n",
      "1 |     |    |    |2.00|2.00|\n",
      "\n",
      "2 |     |    |    |    |1.00|\n",
      "\n",
      "3 |     |2.00|    |    |    |\n",
      "\n",
      "4 | 1.00|2.00|1.00|    |    |\n",
      "\n",
      "\t - proposed edges :  {(3, 1), (1, 4)}\n",
      "\t - new edges :  {(3, 1), (1, 4)}\n"
     ]
    }
   ],
   "source": [
    "print(\"\\n-- pxy1 --\")\n",
    "p11_s = calc.all_scores(n1,e1,True,method.p1)\n",
    "calc.print_scores(p11_s)\n",
    "p11 = calc.apply(n1,e1,True,method.p1)"
   ]
  },
  {
   "cell_type": "code",
   "execution_count": 50,
   "id": "1740ca4d-9516-47ba-ad95-8086829eebc4",
   "metadata": {},
   "outputs": [
    {
     "name": "stdout",
     "output_type": "stream",
     "text": [
      "\n",
      "-- pL3N --\n",
      "     0    1    2    3    4    \n",
      "\n",
      "    - - - - - - - - - - - - - - \n",
      "\n",
      "0 |     |    |    |    |0.33|\n",
      "\n",
      "1 |     |    |    |0.67|0.67|\n",
      "\n",
      "2 |     |    |    |    |0.33|\n",
      "\n",
      "3 |     |0.67|    |    |    |\n",
      "\n",
      "4 | 0.33|0.67|0.33|    |    |\n",
      "\n",
      "\t - proposed edges :  {(3, 1), (1, 4)}\n",
      "\t - new edges :  {(3, 1), (1, 4)}\n"
     ]
    }
   ],
   "source": [
    "print(\"\\n-- pL3N --\")\n",
    "pL3N1_s = calc.all_scores(n1,e1,True,method.pL3N)\n",
    "calc.print_scores(pL3N1_s)\n",
    "pL3N1 = calc.apply(n1,e1,True,method.pL3N)"
   ]
  },
  {
   "cell_type": "code",
   "execution_count": 51,
   "id": "e147ae69-919d-4e1f-877d-fb6eb425869d",
   "metadata": {},
   "outputs": [
    {
     "name": "stdout",
     "output_type": "stream",
     "text": [
      "-- CN --\n",
      "     0    1    2    3    4    5    6    7    \n",
      "\n",
      "    - - - - - - - - - - - - - - - - - - - - \n",
      "\n",
      "0 |     |3.00|2.00|3.00|2.00|1.00|    |2.00|\n",
      "\n",
      "1 | 3.00|    |2.00|2.00|2.00|2.00|    |1.00|\n",
      "\n",
      "2 | 2.00|2.00|    |1.00|3.00|2.00|1.00|2.00|\n",
      "\n",
      "3 | 3.00|2.00|1.00|    |1.00|    |    |1.00|\n",
      "\n",
      "4 | 2.00|2.00|3.00|1.00|    |2.00|1.00|2.00|\n",
      "\n",
      "5 | 1.00|2.00|2.00|    |2.00|    |1.00|1.00|\n",
      "\n",
      "6 |     |    |1.00|    |1.00|1.00|    |    |\n",
      "\n",
      "7 | 2.00|1.00|2.00|1.00|2.00|1.00|    |    |\n",
      "\n",
      "\t - proposed edges :  {(0, 1), (2, 4), (0, 3)}\n",
      "\t - new edges :  {(0, 3)}\n",
      "\n",
      "-- RA --\n",
      "     0    1    2    3    4    5    6    7    \n",
      "\n",
      "    - - - - - - - - - - - - - - - - - - - - \n",
      "\n",
      "0 |     |0.83|0.50|0.83|0.50|0.33|    |0.58|\n",
      "\n",
      "1 | 0.83|    |0.45|0.50|0.45|0.53|    |0.20|\n",
      "\n",
      "2 | 0.50|0.45|    |0.25|0.70|0.45|0.25|0.45|\n",
      "\n",
      "3 | 0.83|0.50|0.25|    |0.25|    |    |0.33|\n",
      "\n",
      "4 | 0.50|0.45|0.70|0.25|    |0.45|0.25|0.45|\n",
      "\n",
      "5 | 0.33|0.53|0.45|    |0.45|    |0.25|0.20|\n",
      "\n",
      "6 |     |    |0.25|    |0.25|0.25|    |    |\n",
      "\n",
      "7 | 0.58|0.20|0.45|0.33|0.45|0.20|    |    |\n",
      "\n",
      "\t - proposed edges :  {(0, 1), (0, 3)}\n",
      "\t - new edges :  {(0, 3)}\n",
      "\n",
      "-- AA --\n",
      "     0    1    2    3    4    5    6    7    \n",
      "\n",
      "    - - - - - - - - - - - - - - - - - - - - \n",
      "\n",
      "0 |     |2.35|1.44|2.35|1.44|0.91|    |1.63|\n",
      "\n",
      "1 | 2.35|    |1.34|1.44|1.34|1.53|    |0.62|\n",
      "\n",
      "2 | 1.44|1.34|    |0.72|2.06|1.34|0.72|1.34|\n",
      "\n",
      "3 | 2.35|1.44|0.72|    |0.72|    |    |0.91|\n",
      "\n",
      "4 | 1.44|1.34|2.06|0.72|    |1.34|0.72|1.34|\n",
      "\n",
      "5 | 0.91|1.53|1.34|    |1.34|    |0.72|0.62|\n",
      "\n",
      "6 |     |    |0.72|    |0.72|0.72|    |    |\n",
      "\n",
      "7 | 1.63|0.62|1.34|0.91|1.34|0.62|    |    |\n",
      "\n",
      "\t - proposed edges :  {(0, 1), (0, 3)}\n",
      "\t - new edges :  {(0, 3)}\n"
     ]
    }
   ],
   "source": [
    "print(\"-- CN --\")\n",
    "cn3_s = calc.all_scores(n3,e3,False,method.CN)\n",
    "calc.print_scores(cn3_s)\n",
    "cn3 = calc.apply(n3,e3,False,method.CN)\n",
    "print(\"\\n-- RA --\")\n",
    "ra3_s = calc.all_scores(n3,e3,False,method.RA)\n",
    "calc.print_scores(ra3_s)\n",
    "ra3 = calc.apply(n3,e3,False,method.RA)\n",
    "print(\"\\n-- AA --\")\n",
    "aa3_s = calc.all_scores(n3,e3,False,method.AA)\n",
    "calc.print_scores(aa3_s)\n",
    "aa3 = calc.apply(n3,e3,False,method.AA)"
   ]
  },
  {
   "cell_type": "code",
   "execution_count": 61,
   "id": "66b49ef6-87ba-4764-aa24-7d2f0fea1911",
   "metadata": {},
   "outputs": [
    {
     "name": "stdout",
     "output_type": "stream",
     "text": [
      "\n",
      "-- pxy1 --\n",
      "     0    1    2    3    4    5    6    7    \n",
      "\n",
      "    - - - - - - - - - - - - - - - - - - - - \n",
      "\n",
      "0 |     |    |    |5.00|    |    |3.00|    |\n",
      "\n",
      "1 |     |    |    |6.00|    |6.00|2.00|    |\n",
      "\n",
      "2 |     |    |    |    |    |5.00|1.00|6.00|\n",
      "\n",
      "3 | 5.00|6.00|    |    |    |    |    |5.00|\n",
      "\n",
      "4 |     |    |    |    |    |5.00|1.00|6.00|\n",
      "\n",
      "5 |     |6.00|5.00|    |5.00|    |    |    |\n",
      "\n",
      "6 | 3.00|2.00|1.00|    |1.00|    |    |1.00|\n",
      "\n",
      "7 |     |    |6.00|5.00|6.00|    |1.00|    |\n",
      "\n",
      "\t - proposed edges :  {(3, 1), (7, 4), (2, 7), (1, 5)}\n",
      "\t - new edges :  {(3, 1), (7, 4), (2, 7), (1, 5)}\n"
     ]
    }
   ],
   "source": [
    "print(\"\\n-- pxy1 --\")\n",
    "p13_s = calc.all_scores(n3,e3,True,method.p1)\n",
    "calc.print_scores(p13_s)\n",
    "p13 = calc.apply(n3,e3,True,method.p1)"
   ]
  },
  {
   "cell_type": "code",
   "execution_count": 53,
   "id": "7d15b205-a891-4743-8a6a-71db9f7c3f3e",
   "metadata": {},
   "outputs": [
    {
     "name": "stdout",
     "output_type": "stream",
     "text": [
      "\n",
      "-- pL3N --\n",
      "     0    1    2    3    4    5    6    7    \n",
      "\n",
      "    - - - - - - - - - - - - - - - - - - - - \n",
      "\n",
      "0 |     |    |    |1.33|    |    |0.79|    |\n",
      "\n",
      "1 |     |    |    |1.54|    |1.46|0.50|    |\n",
      "\n",
      "2 |     |    |    |    |    |1.24|0.25|1.47|\n",
      "\n",
      "3 | 1.33|1.54|    |    |    |    |    |1.21|\n",
      "\n",
      "4 |     |    |    |    |    |1.24|0.25|1.47|\n",
      "\n",
      "5 |     |1.46|1.24|    |1.24|    |    |    |\n",
      "\n",
      "6 | 0.79|0.50|0.25|    |0.25|    |    |0.29|\n",
      "\n",
      "7 |     |    |1.47|1.21|1.47|    |0.29|    |\n",
      "\n",
      "\t - proposed edges :  {(1, 3)}\n",
      "\t - new edges :  {(1, 3)}\n"
     ]
    }
   ],
   "source": [
    "print(\"\\n-- pL3N --\")\n",
    "pL3N3_s = calc.all_scores(n3,e3,True,method.pL3N)\n",
    "calc.print_scores(pL3N3_s)\n",
    "pL3N3 = calc.apply(n3,e3,True,method.pL3N)"
   ]
  },
  {
   "cell_type": "code",
   "execution_count": null,
   "id": "8f83e5c4-9dcf-4ccf-902a-6e8f71f3bbba",
   "metadata": {},
   "outputs": [],
   "source": [
    "# compare w/o and w/ non_adj_crit"
   ]
  },
  {
   "cell_type": "code",
   "execution_count": 17,
   "id": "576624ff-df4c-4792-a5f9-cf262d5efacf",
   "metadata": {},
   "outputs": [
    {
     "name": "stdout",
     "output_type": "stream",
     "text": [
      "     0    1    2    3    4    \n",
      "\n",
      "    - - - - - - - - - - - - - - \n",
      "\n",
      "0 |     |1.00|2.00|1.00|1.00|\n",
      "\n",
      "1 | 1.00|    |1.00|2.00|    |\n",
      "\n",
      "2 | 2.00|1.00|    |1.00|1.00|\n",
      "\n",
      "3 | 1.00|2.00|1.00|    |    |\n",
      "\n",
      "4 | 1.00|    |1.00|    |    |\n",
      "\n",
      "     0    1    2    3    4    \n",
      "\n",
      "    - - - - - - - - - - - - - - \n",
      "\n",
      "0 |     |    |    |    |1.00|\n",
      "\n",
      "1 |     |    |    |2.00|    |\n",
      "\n",
      "2 |     |    |    |    |1.00|\n",
      "\n",
      "3 |     |2.00|    |    |    |\n",
      "\n",
      "4 | 1.00|    |1.00|    |    |\n",
      "\n",
      "w/o crit\n",
      "\t - proposed edges :  {(1, 3), (2, 0)}\n",
      "\t - new edges :  {(1, 3)}\n",
      "w/ crit\n",
      "\t - proposed edges :  {(3, 1)}\n",
      "\t - new edges :  {(3, 1)}\n"
     ]
    },
    {
     "data": {
      "text/plain": [
       "{(0, 3), (1, 0), (1, 2), (2, 0), (2, 3), (3, 1), (3, 4), (4, 3)}"
      ]
     },
     "execution_count": 17,
     "metadata": {},
     "output_type": "execute_result"
    }
   ],
   "source": [
    "cn_f = calc.all_scores(n1,e1,False,method.CN)\n",
    "cn_t = calc.all_scores(n1,e1,True,method.CN)\n",
    "calc.print_scores(cn_f)\n",
    "calc.print_scores(cn_t)\n",
    "print(\"w/o crit\")\n",
    "calc.apply(n1,e1,False,method.CN)\n",
    "print(\"w/ crit\")\n",
    "calc.apply(n1,e1,True,method.CN)"
   ]
  },
  {
   "cell_type": "code",
   "execution_count": 37,
   "id": "5fef7754-c234-47a0-90ce-66bb4acee11f",
   "metadata": {},
   "outputs": [
    {
     "data": {
      "text/plain": [
       "(True, False, False)"
      ]
     },
     "execution_count": 37,
     "metadata": {},
     "output_type": "execute_result"
    }
   ],
   "source": [
    "(2,0) in e1,(1,3) in e1,(3,1) in e1"
   ]
  },
  {
   "cell_type": "code",
   "execution_count": 16,
   "id": "f886ffc4-48f5-4cb0-a322-8a4527c22e31",
   "metadata": {},
   "outputs": [
    {
     "name": "stdout",
     "output_type": "stream",
     "text": [
      "     0    1    2    3    4    \n",
      "\n",
      "    - - - - - - - - - - - - - - \n",
      "\n",
      "0 |     |0.33|0.83|0.33|0.33|\n",
      "\n",
      "1 | 0.33|    |0.33|0.67|    |\n",
      "\n",
      "2 | 0.83|0.33|    |0.33|0.33|\n",
      "\n",
      "3 | 0.33|0.67|0.33|    |    |\n",
      "\n",
      "4 | 0.33|    |0.33|    |    |\n",
      "\n",
      "     0    1    2    3    4    \n",
      "\n",
      "    - - - - - - - - - - - - - - \n",
      "\n",
      "0 |     |    |    |    |0.33|\n",
      "\n",
      "1 |     |    |    |0.67|    |\n",
      "\n",
      "2 |     |    |    |    |0.33|\n",
      "\n",
      "3 |     |0.67|    |    |    |\n",
      "\n",
      "4 | 0.33|    |0.33|    |    |\n",
      "\n",
      "w/o crit\n",
      "\t - proposed edges :  {(0, 2)}\n",
      "\t - new edges :  set()\n",
      "w/ crit\n",
      "\t - proposed edges :  {(3, 1)}\n",
      "\t - new edges :  {(3, 1)}\n"
     ]
    },
    {
     "data": {
      "text/plain": [
       "{(0, 3), (1, 0), (1, 2), (2, 0), (2, 3), (3, 1), (3, 4), (4, 3)}"
      ]
     },
     "execution_count": 16,
     "metadata": {},
     "output_type": "execute_result"
    }
   ],
   "source": [
    "ra_f = calc.all_scores(n1,e1,False,method.RA)\n",
    "ra_t = calc.all_scores(n1,e1,True,method.RA)\n",
    "calc.print_scores(ra_f)\n",
    "calc.print_scores(ra_t)\n",
    "print(\"w/o crit\")\n",
    "calc.apply(n1,e1,False,method.RA)\n",
    "print(\"w/ crit\")\n",
    "calc.apply(n1,e1,True,method.RA)"
   ]
  },
  {
   "cell_type": "code",
   "execution_count": 38,
   "id": "a9a2bd28-f6d2-4070-96e2-92f34a5c9611",
   "metadata": {},
   "outputs": [
    {
     "data": {
      "text/plain": [
       "(True, False, False)"
      ]
     },
     "execution_count": 38,
     "metadata": {},
     "output_type": "execute_result"
    }
   ],
   "source": [
    "(2,0) in e1,(3,1) in e1,(1,3) in e1"
   ]
  },
  {
   "cell_type": "code",
   "execution_count": 18,
   "id": "55ea3713-8145-4184-8a31-93ecc1c47dc9",
   "metadata": {},
   "outputs": [
    {
     "name": "stdout",
     "output_type": "stream",
     "text": [
      "     0    1    2    3    4    \n",
      "\n",
      "    - - - - - - - - - - - - - - \n",
      "\n",
      "0 |     |0.91|2.35|0.91|0.91|\n",
      "\n",
      "1 | 0.91|    |0.91|1.82|    |\n",
      "\n",
      "2 | 2.35|0.91|    |0.91|0.91|\n",
      "\n",
      "3 | 0.91|1.82|0.91|    |    |\n",
      "\n",
      "4 | 0.91|    |0.91|    |    |\n",
      "\n",
      "     0    1    2    3    4    \n",
      "\n",
      "    - - - - - - - - - - - - - - \n",
      "\n",
      "0 |     |    |    |    |0.91|\n",
      "\n",
      "1 |     |    |    |1.82|    |\n",
      "\n",
      "2 |     |    |    |    |0.91|\n",
      "\n",
      "3 |     |1.82|    |    |    |\n",
      "\n",
      "4 | 0.91|    |0.91|    |    |\n",
      "\n",
      "w/o crit\n",
      "\t - proposed edges :  {(0, 2)}\n",
      "\t - new edges :  set()\n",
      "w/ crit\n",
      "\t - proposed edges :  {(3, 1)}\n",
      "\t - new edges :  {(3, 1)}\n"
     ]
    },
    {
     "data": {
      "text/plain": [
       "{(0, 3), (1, 0), (1, 2), (2, 0), (2, 3), (3, 1), (3, 4), (4, 3)}"
      ]
     },
     "execution_count": 18,
     "metadata": {},
     "output_type": "execute_result"
    }
   ],
   "source": [
    "aa_f = calc.all_scores(n1,e1,False,method.AA)\n",
    "aa_t = calc.all_scores(n1,e1,True,method.AA)\n",
    "calc.print_scores(aa_f)\n",
    "calc.print_scores(aa_t)\n",
    "print(\"w/o crit\")\n",
    "calc.apply(n1,e1,False,method.AA)\n",
    "print(\"w/ crit\")\n",
    "calc.apply(n1,e1,True,method.AA)"
   ]
  },
  {
   "cell_type": "code",
   "execution_count": 39,
   "id": "1db46ddd-c9e2-4cff-9456-339d2beb32d4",
   "metadata": {},
   "outputs": [
    {
     "data": {
      "text/plain": [
       "(True, False, False)"
      ]
     },
     "execution_count": 39,
     "metadata": {},
     "output_type": "execute_result"
    }
   ],
   "source": [
    "(2,0) in e1,(3,1) in e1,(1,3) in e1"
   ]
  },
  {
   "cell_type": "code",
   "execution_count": 19,
   "id": "260ca8c4-b010-4a07-868b-856eea6ef801",
   "metadata": {},
   "outputs": [
    {
     "name": "stdout",
     "output_type": "stream",
     "text": [
      "     0    1    2    3    4    \n",
      "\n",
      "    - - - - - - - - - - - - - - \n",
      "\n",
      "0 | 4.00|5.00|5.00|6.00|1.00|\n",
      "\n",
      "1 | 5.00|2.00|5.00|2.00|2.00|\n",
      "\n",
      "2 | 5.00|5.00|4.00|6.00|1.00|\n",
      "\n",
      "3 | 6.00|2.00|6.00|2.00|3.00|\n",
      "\n",
      "4 | 1.00|2.00|1.00|3.00|    |\n",
      "\n",
      "     0    1    2    3    4    \n",
      "\n",
      "    - - - - - - - - - - - - - - \n",
      "\n",
      "0 |     |    |    |    |1.00|\n",
      "\n",
      "1 |     |    |    |2.00|2.00|\n",
      "\n",
      "2 |     |    |    |    |1.00|\n",
      "\n",
      "3 |     |2.00|    |    |    |\n",
      "\n",
      "4 | 1.00|2.00|1.00|    |    |\n",
      "\n",
      "w/o crit\n",
      "\t - proposed edges :  {(2, 3), (0, 3)}\n",
      "\t - new edges :  set()\n",
      "w/ crit\n",
      "\t - proposed edges :  {(3, 1), (1, 4)}\n",
      "\t - new edges :  {(3, 1), (1, 4)}\n"
     ]
    },
    {
     "data": {
      "text/plain": [
       "{(0, 3), (1, 0), (1, 2), (1, 4), (2, 0), (2, 3), (3, 1), (3, 4), (4, 3)}"
      ]
     },
     "execution_count": 19,
     "metadata": {},
     "output_type": "execute_result"
    }
   ],
   "source": [
    "p1_f = calc.all_scores(n1,e1,False,method.p1)\n",
    "p1_t = calc.all_scores(n1,e1,True,method.p1)\n",
    "calc.print_scores(p1_f)\n",
    "calc.print_scores(p1_t)\n",
    "print(\"w/o crit\")\n",
    "calc.apply(n1,e1,False,method.p1)\n",
    "print(\"w/ crit\")\n",
    "calc.apply(n1,e1,True,method.p1)"
   ]
  },
  {
   "cell_type": "code",
   "execution_count": 40,
   "id": "7cce2303-8134-44be-a626-97d0b9a6e738",
   "metadata": {},
   "outputs": [
    {
     "data": {
      "text/plain": [
       "(True, True, False, False, False, False)"
      ]
     },
     "execution_count": 40,
     "metadata": {},
     "output_type": "execute_result"
    }
   ],
   "source": [
    "(2,3) in e1,(0,3) in e1,(3,1) in e1,(1,3) in e1,(1,4) in e1,(4,1) in e1"
   ]
  },
  {
   "cell_type": "code",
   "execution_count": 20,
   "id": "7d098150-c10c-466b-b30b-28bc61589fb6",
   "metadata": {},
   "outputs": [
    {
     "name": "stdout",
     "output_type": "stream",
     "text": [
      "     0    1    2    3    4    \n",
      "\n",
      "    - - - - - - - - - - - - - - \n",
      "\n",
      "0 | 1.48|1.82|1.82|2.39|0.33|\n",
      "\n",
      "1 | 1.82|0.67|1.82|0.67|0.67|\n",
      "\n",
      "2 | 1.82|1.82|1.48|2.39|0.33|\n",
      "\n",
      "3 | 2.39|0.67|2.39|0.67|1.24|\n",
      "\n",
      "4 | 0.33|0.67|0.33|1.24|    |\n",
      "\n",
      "     0    1    2    3    4    \n",
      "\n",
      "    - - - - - - - - - - - - - - \n",
      "\n",
      "0 |     |    |    |    |0.33|\n",
      "\n",
      "1 |     |    |    |0.67|0.67|\n",
      "\n",
      "2 |     |    |    |    |0.33|\n",
      "\n",
      "3 |     |0.67|    |    |    |\n",
      "\n",
      "4 | 0.33|0.67|0.33|    |    |\n",
      "\n",
      "w/o crit\n",
      "\t - proposed edges :  {(2, 3), (0, 3)}\n",
      "\t - new edges :  set()\n",
      "w/ crit\n",
      "\t - proposed edges :  {(3, 1), (1, 4)}\n",
      "\t - new edges :  {(3, 1), (1, 4)}\n"
     ]
    },
    {
     "data": {
      "text/plain": [
       "{(0, 3), (1, 0), (1, 2), (1, 4), (2, 0), (2, 3), (3, 1), (3, 4), (4, 3)}"
      ]
     },
     "execution_count": 20,
     "metadata": {},
     "output_type": "execute_result"
    }
   ],
   "source": [
    "pL3N_f = calc.all_scores(n1,e1,False,method.pL3N)\n",
    "pL3N_t = calc.all_scores(n1,e1,True,method.pL3N)\n",
    "calc.print_scores(pL3N_f)\n",
    "calc.print_scores(pL3N_t)\n",
    "print(\"w/o crit\")\n",
    "calc.apply(n1,e1,False,method.pL3N)\n",
    "print(\"w/ crit\")\n",
    "calc.apply(n1,e1,True,method.pL3N)"
   ]
  },
  {
   "cell_type": "code",
   "execution_count": 43,
   "id": "40d7ea84-7eca-4920-9d0d-3457f5890bf7",
   "metadata": {},
   "outputs": [
    {
     "data": {
      "text/plain": [
       "(True, True, False, False, False, False)"
      ]
     },
     "execution_count": 43,
     "metadata": {},
     "output_type": "execute_result"
    }
   ],
   "source": [
    "(2,3) in e1,(0,3) in e1,(3,1) in e1,(1,3) in e1,(1,4) in e1,(4,1) in e1"
   ]
  },
  {
   "cell_type": "code",
   "execution_count": null,
   "id": "5487a256-9228-44dd-9acd-879d60657898",
   "metadata": {},
   "outputs": [],
   "source": []
  }
 ],
 "metadata": {
  "kernelspec": {
   "display_name": "Python 3 (ipykernel)",
   "language": "python",
   "name": "python3"
  },
  "language_info": {
   "codemirror_mode": {
    "name": "ipython",
    "version": 3
   },
   "file_extension": ".py",
   "mimetype": "text/x-python",
   "name": "python",
   "nbconvert_exporter": "python",
   "pygments_lexer": "ipython3",
   "version": "3.12.4"
  }
 },
 "nbformat": 4,
 "nbformat_minor": 5
}
