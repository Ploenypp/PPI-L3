{
 "cells": [
  {
   "cell_type": "code",
   "execution_count": 1,
   "id": "256bc48b-71ef-4d42-bd6c-c55896331cc6",
   "metadata": {},
   "outputs": [],
   "source": [
    "import networkx as nx\n",
    "import g_func\n",
    "import formula\n",
    "import prelim_test.calc_n as calc"
   ]
  },
  {
   "cell_type": "code",
   "execution_count": 2,
   "id": "cbcfdfb5-e5a7-4958-a3f2-d38c2cd38716",
   "metadata": {},
   "outputs": [],
   "source": [
    "# Graphs\n",
    "n1 = [0,1,2,3,4]\n",
    "e1 = {(0, 3), (1, 2), (2, 0), (3, 4), (4, 3), (1, 0), (2, 3)}\n",
    "n2 = [0,1,2,3,4,5,6,7]\n",
    "e2 = {(0, 6), (1, 7), (2, 0), (3, 2), (4, 3), (5, 6), (6, 1), (7, 2), (4, 6), (4, 5), (5, 0), (7, 3)}\n",
    "n3 = [0,1,2,3,4,5,6,7]\n",
    "e3 = {(0, 2), (1, 4), (2, 4), (3, 2), (4, 3), (5, 3), (6, 3), (7, 0), (7, 1), (5, 0), (5, 7), (1, 2), (1, 0), (0, 4)}"
   ]
  },
  {
   "cell_type": "code",
   "execution_count": 3,
   "id": "278166ce-e6b3-4323-b681-7ac6ef4a79d1",
   "metadata": {},
   "outputs": [],
   "source": [
    "G = nx.Graph()\n",
    "G.add_edges_from(e1)"
   ]
  },
  {
   "cell_type": "code",
   "execution_count": 8,
   "id": "ac1bd16d-fac5-4382-96a7-f67a72b4b1b8",
   "metadata": {},
   "outputs": [
    {
     "name": "stdout",
     "output_type": "stream",
     "text": [
      "     0    1    2    3    4    \n",
      "\n",
      "    - - - - - - - - - - - - - - \n",
      "\n",
      "0 |     |    |    |    |0.03|\n",
      "\n",
      "1 |     |    |    |1.78|8.00|\n",
      "\n",
      "2 |     |    |    |    |0.03|\n",
      "\n",
      "3 |     |    |    |    |    |\n",
      "\n",
      "4 |     |    |    |    |    |\n",
      "\n"
     ]
    }
   ],
   "source": [
    "scores1 = calc.all_scores(n1,e1,False,True,formula.pL3N,formula.SR)\n",
    "calc.print_scores(scores1)"
   ]
  },
  {
   "cell_type": "code",
   "execution_count": 10,
   "id": "f8936bde-669e-452d-9489-f5f3c69f1302",
   "metadata": {},
   "outputs": [
    {
     "name": "stdout",
     "output_type": "stream",
     "text": [
      "     0    1    2    3    4    5    6    7    \n",
      "\n",
      "    - - - - - - - - - - - - - - - - - - - - \n",
      "\n",
      "0 |     |1.48|    |12.00|16.00|    |    |0.99|\n",
      "\n",
      "1 |     |    |1.48|1.48|1.48|0.30|    |    |\n",
      "\n",
      "2 |     |    |    |    |8.89|0.66|15.19|    |\n",
      "\n",
      "3 |     |    |    |    |    |0.66|15.19|    |\n",
      "\n",
      "4 |     |    |    |    |    |    |    |0.99|\n",
      "\n",
      "5 |     |    |    |    |    |    |    |24.00|\n",
      "\n",
      "6 |     |    |    |    |    |    |    |0.44|\n",
      "\n",
      "7 |     |    |    |    |    |    |    |    |\n",
      "\n"
     ]
    }
   ],
   "source": [
    "scores2 = calc.all_scores(n2,e2,False,True,formula.pL3N,formula.SR)\n",
    "calc.print_scores(scores2)"
   ]
  },
  {
   "cell_type": "code",
   "execution_count": 11,
   "id": "a683f9e0-6638-4fa6-8450-7dcdbc70b116",
   "metadata": {},
   "outputs": [
    {
     "name": "stdout",
     "output_type": "stream",
     "text": [
      "     0    1    2    3    4    5    6    7    \n",
      "\n",
      "    - - - - - - - - - - - - - - - - - - - - \n",
      "\n",
      "0 |     |1.48|    |12.00|16.00|    |    |0.99|\n",
      "\n",
      "1 |     |    |1.48|1.48|1.48|0.30|    |    |\n",
      "\n",
      "2 |     |    |    |    |8.89|0.66|15.19|    |\n",
      "\n",
      "3 |     |    |    |    |    |0.66|15.19|    |\n",
      "\n",
      "4 |     |    |    |    |    |    |    |0.99|\n",
      "\n",
      "5 |     |    |    |    |    |    |    |24.00|\n",
      "\n",
      "6 |     |    |    |    |    |    |    |0.44|\n",
      "\n",
      "7 |     |    |    |    |    |    |    |    |\n",
      "\n"
     ]
    }
   ],
   "source": [
    "scores3 = calc.all_scores(n3,e3,False,True,formula.pL3N,formula.SR)\n",
    "calc.print_scores(scores2)"
   ]
  },
  {
   "cell_type": "code",
   "execution_count": null,
   "id": "1a408767-d3dc-41f1-8f17-85dd3d8a9ad8",
   "metadata": {},
   "outputs": [],
   "source": []
  }
 ],
 "metadata": {
  "kernelspec": {
   "display_name": "Python 3 (ipykernel)",
   "language": "python",
   "name": "python3"
  },
  "language_info": {
   "codemirror_mode": {
    "name": "ipython",
    "version": 3
   },
   "file_extension": ".py",
   "mimetype": "text/x-python",
   "name": "python",
   "nbconvert_exporter": "python",
   "pygments_lexer": "ipython3",
   "version": "3.12.4"
  }
 },
 "nbformat": 4,
 "nbformat_minor": 5
}
